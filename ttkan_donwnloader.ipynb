{
 "cells": [
  {
   "cell_type": "code",
   "execution_count": null,
   "id": "c925f8ec-0205-4e28-9821-298bf3397056",
   "metadata": {},
   "outputs": [],
   "source": [
    "from bs4 import BeautifulSoup as bs\n",
    "from requests import get ,post\n",
    "from urllib.parse import quote\n",
    "from tqdm import tqdm\n",
    "import os\n",
    "import re\n",
    "import platform\n",
    "import sys"
   ]
  },
  {
   "cell_type": "code",
   "execution_count": null,
   "id": "b9816380-9a9f-4500-94c9-c94b513730b2",
   "metadata": {},
   "outputs": [],
   "source": [
    "def get_search_list(keyword:str) -> list:\n",
    "    result_list = []\n",
    "    url = 'https://www.ttkan.co/novel/search?q={0}'.format(keyword)\n",
    "    search_request = get(url)\n",
    "    search_request.encoding = search_request.apparent_encoding\n",
    "    search_request_bs = bs(search_request.text, 'html5lib')\n",
    "    novels_list = search_request_bs.find_all('div',{'class':'pure-u-1-1 pure-u-xl-1-3 pure-u-lg-1-3 pure-u-md-1-2 novel_cell'})\n",
    "    \n",
    "    for novel in novels_list:\n",
    "        info = novel.find_all('li')\n",
    "        novel_info = {'title': info[0].text,'url' :'https://www.ttkan.co/' + info[0].find('a')['href'], 'writer': info[1].text, 'info':info[2].text}\n",
    "        result_list.append(novel_info)\n",
    "    return result_list"
   ]
  },
  {
   "cell_type": "code",
   "execution_count": null,
   "id": "a423ab10-c60c-440c-bfad-426d5b1132e8",
   "metadata": {},
   "outputs": [],
   "source": [
    "def get_novel_chapters_list(novel_url:str) -> list:\n",
    "    result_list = []\n",
    "    chapter_list_request = get(novel_url)\n",
    "    chapter_list_request.encoding = chapter_list_request.apparent_encoding\n",
    "    chapter_list_bs = bs(chapter_list_request.text, 'html5lib')\n",
    "    chapter_list = chapter_list_bs.find('div', {'class':'full_chapters'}).find_all('a')\n",
    "    \n",
    "    for chapter in chapter_list :\n",
    "        if re.match(r'https://.*',chapter['href']) != None:\n",
    "            result_list.append(chapter)\n",
    "    \n",
    "    return result_list"
   ]
  },
  {
   "cell_type": "code",
   "execution_count": null,
   "id": "046dcc00-a92b-47ea-8bc3-6726ec6a7f46",
   "metadata": {},
   "outputs": [],
   "source": [
    "def download_novel(chapters_list:list, store_path:str):\n",
    "    if os.path.isdir(store_path) == False : os.mkdir(store_path)\n",
    "    index = 1\n",
    "    for i in tqdm(range(len(chapters_list))):\n",
    "        chapter_name = os.path.join(store_path,'{:4d}'.format(index) + '-' + chapters_list[i].text.replace(' ','-')+'.txt')\n",
    "        chapter_url = chapters_list[i]['href']\n",
    "        \n",
    "        chapter_request = get(chapter_url)\n",
    "        if chapter_request.status_code == 200:\n",
    "            chapter_request.encoding = chapter_request.apparent_encoding\n",
    "            \n",
    "            chapter_request_bs = bs(chapter_request.text, 'html5lib')\n",
    "            chapter_content = chapter_request_bs.find('div', {'class':'content'}).text.replace('\\n','').replace(' ','')\n",
    "                    \n",
    "            with open(chapter_name,'w') as file:\n",
    "                file.write(chapter_content)\n",
    "            file.close()\n",
    "        index = index + 1"
   ]
  },
  {
   "cell_type": "code",
   "execution_count": null,
   "id": "643ee284-69a6-487b-828f-b6b9439b2f23",
   "metadata": {},
   "outputs": [],
   "source": [
    "def sub_main(url:str, title:str):\n",
    "    chapter_list = get_novel_chapters_list(url)\n",
    "    print('開始下載：{}'.format(title))\n",
    "    download_novel(chapter_list, title)"
   ]
  },
  {
   "cell_type": "code",
   "execution_count": null,
   "id": "b2b349d2-358a-4795-9e21-508e21dc3735",
   "metadata": {},
   "outputs": [],
   "source": [
    "def clear_terminal():\n",
    "    if platform.system() == 'Windows':\n",
    "        os.system('cls')\n",
    "    else:\n",
    "        os.system('clear')"
   ]
  },
  {
   "cell_type": "code",
   "execution_count": null,
   "id": "45cfabac-9781-41af-8dda-d8bbd614b66b",
   "metadata": {},
   "outputs": [],
   "source": [
    "def command_mode(url: str):\n",
    "    try:\n",
    "        clear_terminal()\n",
    "\n",
    "        novel_url = url\n",
    "        novel_request = get(novel_url)\n",
    "        novel_request.encoding = novel_request.apparent_encoding\n",
    "        novel_request_bs = bs(novel_request.text, 'html5lib')\n",
    "        title = novel_request_bs.find('h1').text\n",
    "\n",
    "        novel_request_bs = None\n",
    "        novel_request = None\n",
    "\n",
    "        sub_main(novel_url, title)\n",
    "\n",
    "        sys.exit()\n",
    "    except KeyboardInterrupt:\n",
    "        clear_terminal()\n",
    "        print('下載已終止，程式即將關閉，請多支持『天天看小說（https://www.ttkan.co）』')   "
   ]
  },
  {
   "cell_type": "code",
   "execution_count": null,
   "id": "dd425e03-16c0-4cca-a419-acbc5d75fbbc",
   "metadata": {},
   "outputs": [],
   "source": [
    "def console_mode():\n",
    "# console mode\n",
    "    print('歡迎使用『天天看小說（https://www.ttkan.co）』下載器')\n",
    "    try:\n",
    "        while True: \n",
    "            user_input = input(\"請輸入小說名稱 或 作者名稱（輸入b離開程式）:\")  #希望可以增價值些輸入網址後下載\n",
    "            if user_input == 'b':\n",
    "                print('程式已關閉，歡迎再次使用。')\n",
    "                break\n",
    "\n",
    "            novels_list = get_search_list(user_input) \n",
    "            if novels_list == []: \n",
    "                print('書名『{}』找不到。'.format(user_input))\n",
    "                continue\n",
    "\n",
    "            index = 1\n",
    "            for novel in novels_list:\n",
    "                print('({0})'.format(index) + '書名:' + novel['title'])\n",
    "                print('   ' + novel['writer'])\n",
    "                print('   ' + novel['info'])\n",
    "                index += 1\n",
    "\n",
    "            while True:\n",
    "                range_list = []\n",
    "                user_input = input(\"請輸入要下載的小說號碼（範例:1 或 1,3 或 4-7）（輸入b重新搜尋小說）:\")\n",
    "                if user_input == 'b' :\n",
    "                    clear_terminal()\n",
    "                    break   \n",
    "\n",
    "                if re.match(r'\\d*,\\d*',user_input) == None and re.match(r'\\d*-\\d*', user_input) == None and re.match(r'^\\d*$', user_input) == None:\n",
    "                    print('輸入的格式錯誤。')\n",
    "                    continue    \n",
    "\n",
    "                try:\n",
    "                    if int(user_input) < len(novels_list) or int(user_input) > 0:\n",
    "                        range_list.append(range(int(user_input), int(user_input) + 1))\n",
    "                    else:    \n",
    "                        print('輸入的數字超過範圍')\n",
    "                        continue\n",
    "\n",
    "                except ValueError:\n",
    "                    if user_input.find(',') == -1:\n",
    "                        user_input_list = [user_input]\n",
    "                    else:\n",
    "                        user_input_list = user_input.split(',')\n",
    "\n",
    "\n",
    "                    for _input in user_input_list:\n",
    "                        if _input.find('-') == -1:\n",
    "                            range_list.append(range(int(_input), int(_input) + 1))\n",
    "                        else:\n",
    "                            range_list.append(range(int(_input.split('-')[0]), int(_input.split('-')[1]) + 1))\n",
    "\n",
    "                    if len(range_list) == 0:\n",
    "                        print('請輸入數字（半形）')\n",
    "                        continue                        \n",
    "\n",
    "                books_list = []\n",
    "                for books in range_list:\n",
    "                    for book in books:\n",
    "                        books_list.append([novels_list[int(book) - 1]['url'],novels_list[int(book) - 1]['title']])\n",
    "                        \n",
    "                for i in tqdm(range(len(books_list))):\n",
    "                    sub_main(books_list[i][0], books_list[i][1])\n",
    "                    \n",
    "    except KeyboardInterrupt:\n",
    "        clear_terminal()\n",
    "        print('下載已終止，程式即將關閉，請多支持『天天看小說（https://www.ttkan.co）』')    "
   ]
  },
  {
   "cell_type": "code",
   "execution_count": null,
   "id": "e94d8ce8-b96f-495a-9cf0-90cc5ca21c40",
   "metadata": {},
   "outputs": [],
   "source": [
    "def main():\n",
    "    if len(sys.argv) > 1:\n",
    "        command_mode(sys.argv[1])\n",
    "    else:\n",
    "        console_mode()"
   ]
  },
  {
   "cell_type": "code",
   "execution_count": null,
   "id": "c47647e6-30ba-4f43-aadf-29d690357cdd",
   "metadata": {},
   "outputs": [],
   "source": [
    "if __name__ == '__main__':\n",
    "    main()"
   ]
  }
 ],
 "metadata": {
  "kernelspec": {
   "display_name": "wfxs",
   "language": "python",
   "name": "wfxs"
  },
  "language_info": {
   "codemirror_mode": {
    "name": "ipython",
    "version": 3
   },
   "file_extension": ".py",
   "mimetype": "text/x-python",
   "name": "python",
   "nbconvert_exporter": "python",
   "pygments_lexer": "ipython3",
   "version": "3.8.11"
  }
 },
 "nbformat": 4,
 "nbformat_minor": 5
}
